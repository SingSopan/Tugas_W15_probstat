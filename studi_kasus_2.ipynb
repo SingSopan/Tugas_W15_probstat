{
 "cells": [
  {
   "cell_type": "markdown",
   "id": "961b033e",
   "metadata": {},
   "source": [
    "# **Studi kasus two way**\n",
    "\n",
    "Pengaruh Jenis Pelatihan dan Tingkat Pendidikan terhadap Skor Kompetensi Karyawan\n",
    "\n",
    "Deskripsi:\n",
    "Sebuah perusahaan ingin mengevaluasi dua hal:\n",
    "- Apakah jenis pelatihan (A atau B) berpengaruh terhadap hasil tes karyawan?\n",
    "- Apakah tingkat pendidikan (SMA, S1, S2) juga berpengaruh?\n",
    "- Apakah ada interaksi antara jenis pelatihan dan tingkat pendidikan?\n"
   ]
  },
  {
   "cell_type": "code",
   "execution_count": null,
   "id": "5b542d6f",
   "metadata": {},
   "outputs": [],
   "source": [
    "import pandas as pd\n",
    "import matplotlib.pyplot as plt\n",
    "import seaborn as sns\n",
    "\n",
    "# Data simulasi\n",
    "data = pd.DataFrame({\n",
    "    \"Skor\": [75, 78, 80, 85, 83, 88, 70, 72, 73, 76, 74, 77],\n",
    "    \"Pelatihan\": [\"A\"] * 6 + [\"B\"] * 6,\n",
    "    \"Pendidikan\": [\"SMA\", \"S1\", \"S2\"] * 4\n",
    "})\n",
    "\n",
    "# Visualisasi awal\n",
    "plt.figure(figsize=(8,6))\n",
    "sns.boxplot(x=\"Pendidikan\", y=\"Skor\", hue=\"Pelatihan\", data=data)\n",
    "plt.title(\"Distribusi Skor berdasarkan Pendidikan dan Pelatihan\")\n",
    "plt.show()\n"
   ]
  },
  {
   "cell_type": "code",
   "execution_count": null,
   "id": "729fc0c7",
   "metadata": {},
   "outputs": [],
   "source": [
    "from scipy.stats import shapiro\n",
    "\n",
    "# Per grup kombinasi\n",
    "for edu in data[\"Pendidikan\"].unique():\n",
    "    for pel in data[\"Pelatihan\"].unique():\n",
    "        subset = data[(data[\"Pendidikan\"] == edu) & (data[\"Pelatihan\"] == pel)][\"Skor\"]\n",
    "        stat, p = shapiro(subset)\n",
    "        print(f\"Normalitas - {pel} & {edu}: p-value = {p:.4f}\")\n"
   ]
  },
  {
   "cell_type": "code",
   "execution_count": null,
   "id": "b118e00e",
   "metadata": {},
   "outputs": [],
   "source": [
    "from scipy.stats import levene\n",
    "\n",
    "grouped = data.groupby(['Pendidikan', 'Pelatihan'])['Skor'].apply(list).tolist()\n",
    "stat, p = levene(*grouped)\n",
    "print(f\"Levene Test (Homogenitas): p-value = {p:.4f}\")\n"
   ]
  },
  {
   "cell_type": "code",
   "execution_count": null,
   "id": "174c8133",
   "metadata": {},
   "outputs": [],
   "source": [
    "import statsmodels.api as sm\n",
    "from statsmodels.formula.api import ols\n",
    "\n",
    "# Model ANOVA 2 arah dengan interaksi\n",
    "model = ols(\"Skor ~ C(Pelatihan) * C(Pendidikan)\", data=data).fit()\n",
    "anova_table = sm.stats.anova_lm(model, typ=2)\n",
    "print(anova_table)\n"
   ]
  },
  {
   "cell_type": "code",
   "execution_count": null,
   "id": "b7b98f4c",
   "metadata": {},
   "outputs": [],
   "source": [
    "from statsmodels.stats.multicomp import pairwise_tukeyhsd\n",
    "\n",
    "# Hanya untuk salah satu faktor (misalnya Pendidikan)\n",
    "tukey = pairwise_tukeyhsd(endog=data['Skor'], groups=data['Pendidikan'], alpha=0.05)\n",
    "print(tukey.summary())\n"
   ]
  }
 ],
 "metadata": {
  "kernelspec": {
   "display_name": "Python 3",
   "language": "python",
   "name": "python3"
  },
  "language_info": {
   "codemirror_mode": {
    "name": "ipython",
    "version": 3
   },
   "file_extension": ".py",
   "mimetype": "text/x-python",
   "name": "python",
   "nbconvert_exporter": "python",
   "pygments_lexer": "ipython3",
   "version": "3.12.6"
  }
 },
 "nbformat": 4,
 "nbformat_minor": 5
}
