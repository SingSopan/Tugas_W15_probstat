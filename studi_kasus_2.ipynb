{
 "cells": [
  {
   "cell_type": "markdown",
   "id": "961b033e",
   "metadata": {},
   "source": [
    "# **Studi kasus two way**\n",
    "\n",
    "Pengaruh Jenis Pelatihan dan Tingkat Pendidikan terhadap Skor Kompetensi Karyawan\n",
    "\n",
    "Deskripsi:\n",
    "Sebuah perusahaan ingin mengevaluasi dua hal:\n",
    "- Apakah jenis pelatihan (A atau B) berpengaruh terhadap hasil tes karyawan?\n",
    "- Apakah tingkat pendidikan (SMA, S1, S2) juga berpengaruh?\n",
    "- Apakah ada interaksi antara jenis pelatihan dan tingkat pendidikan?\n"
   ]
  },
  {
   "cell_type": "markdown",
   "id": "4b038680",
   "metadata": {},
   "source": [
    "**Import Data**"
   ]
  },
  {
   "cell_type": "code",
   "execution_count": 7,
   "id": "5b542d6f",
   "metadata": {},
   "outputs": [
    {
     "data": {
      "image/png": "[encoded data removed]",
      "text/plain": [
       "<Figure size 800x600 with 1 Axes>"
      ]
     },
     "metadata": {},
     "output_type": "display_data"
    }
   ],
   "source": [
    "import pandas as pd\n",
    "import matplotlib.pyplot as plt\n",
    "import seaborn as sns\n",
    "from scipy.stats import shapiro\n",
    "\n",
    "# Data simulasi\n",
    "data = pd.DataFrame({\n",
    "    \"Skor\": [75, 78, 80, 85, 83, 88, 70, 72, 73, 76, 74, 77, 79, 82, 81, 86, 84, 87],\n",
    "    \"Pelatihan\": [\"A\"] * 9 + [\"B\"] * 9,\n",
    "    \"Pendidikan\": ([\"SMA\", \"S1\", \"S2\"] * 3) * 2\n",
    "})\n",
    "\n",
    "# Visualisasi awal\n",
    "plt.figure(figsize=(8,6))\n",
    "sns.boxplot(x=\"Pendidikan\", y=\"Skor\", hue=\"Pelatihan\", data=data)\n",
    "plt.title(\"Distribusi Skor berdasarkan Pendidikan dan Pelatihan\")\n",
    "plt.show()\n"
   ]
  },
  {
   "cell_type": "markdown",
   "id": "1af4f662",
   "metadata": {},
   "source": [
    "**Uji Asumsi ANOVA**\n",
    "\n",
    "1. Normalitas (Shapiro-Wilk Test) \\\n",
    "Interpretasi: Jika semua p-value > 0.05 → data normal"
   ]
  },
  {
   "cell_type": "code",
   "execution_count": 8,
   "id": "729fc0c7",
   "metadata": {},
   "outputs": [
    {
     "data": {
      "text/html": [
       "<div>\n",
       "<style scoped>\n",
       "    .dataframe tbody tr th:only-of-type {\n",
       "        vertical-align: middle;\n",
       "    }\n",
       "\n",
       "    .dataframe tbody tr th {\n",
       "        vertical-align: top;\n",
       "    }\n",
       "\n",
       "    .dataframe thead th {\n",
       "        text-align: right;\n",
       "    }\n",
       "</style>\n",
       "<table border=\"1\" class=\"dataframe\">\n",
       "  <thead>\n",
       "    <tr style=\"text-align: right;\">\n",
       "      <th></th>\n",
       "      <th>Pelatihan</th>\n",
       "      <th>Pendidikan</th>\n",
       "      <th>p-value</th>\n",
       "    </tr>\n",
       "  </thead>\n",
       "  <tbody>\n",
       "    <tr>\n",
       "      <th>0</th>\n",
       "      <td>A</td>\n",
       "      <td>SMA</td>\n",
       "      <td>0.6369</td>\n",
       "    </tr>\n",
       "    <tr>\n",
       "      <th>1</th>\n",
       "      <td>B</td>\n",
       "      <td>SMA</td>\n",
       "      <td>0.5665</td>\n",
       "    </tr>\n",
       "    <tr>\n",
       "      <th>2</th>\n",
       "      <td>A</td>\n",
       "      <td>S1</td>\n",
       "      <td>0.8999</td>\n",
       "    </tr>\n",
       "    <tr>\n",
       "      <th>3</th>\n",
       "      <td>B</td>\n",
       "      <td>S1</td>\n",
       "      <td>0.3631</td>\n",
       "    </tr>\n",
       "    <tr>\n",
       "      <th>4</th>\n",
       "      <td>A</td>\n",
       "      <td>S2</td>\n",
       "      <td>0.9265</td>\n",
       "    </tr>\n",
       "    <tr>\n",
       "      <th>5</th>\n",
       "      <td>B</td>\n",
       "      <td>S2</td>\n",
       "      <td>0.7804</td>\n",
       "    </tr>\n",
       "  </tbody>\n",
       "</table>\n",
       "</div>"
      ],
      "text/plain": [
       "  Pelatihan Pendidikan  p-value\n",
       "0         A        SMA   0.6369\n",
       "1         B        SMA   0.5665\n",
       "2         A         S1   0.8999\n",
       "3         B         S1   0.3631\n",
       "4         A         S2   0.9265\n",
       "5         B         S2   0.7804"
      ]
     },
     "execution_count": 8,
     "metadata": {},
     "output_type": "execute_result"
    }
   ],
   "source": [
    "from scipy.stats import shapiro\n",
    "results = []\n",
    "\n",
    "for edu in data[\"Pendidikan\"].unique():\n",
    "    for pel in data[\"Pelatihan\"].unique():\n",
    "        subset = data[(data[\"Pendidikan\"] == edu) & (data[\"Pelatihan\"] == pel)][\"Skor\"]\n",
    "        stat, p = shapiro(subset)\n",
    "        results.append({\"Pelatihan\": pel, \"Pendidikan\": edu, \"p-value\": round(p, 4)})\n",
    "\n",
    "pd.DataFrame(results)\n"
   ]
  },
  {
   "cell_type": "markdown",
   "id": "b2721a69",
   "metadata": {},
   "source": [
    "2. Homogenitas Variansi (Levene Test) \\\n",
    "Interpretasi: Jika p > 0.05 → variansi antar grup dianggap homogen"
   ]
  },
  {
   "cell_type": "code",
   "execution_count": 9,
   "id": "b118e00e",
   "metadata": {},
   "outputs": [
    {
     "name": "stdout",
     "output_type": "stream",
     "text": [
      "Levene Test (Homogenitas): p-value = 0.9819\n"
     ]
    }
   ],
   "source": [
    "from scipy.stats import levene\n",
    "\n",
    "grouped = data.groupby(['Pendidikan', 'Pelatihan'])['Skor'].apply(list).tolist()\n",
    "stat, p = levene(*grouped)\n",
    "print(f\"Levene Test (Homogenitas): p-value = {p:.4f}\")\n"
   ]
  },
  {
   "cell_type": "markdown",
   "id": "c999cf61",
   "metadata": {},
   "source": [
    "Uji ANOVA (Two-Way ANOVA)"
   ]
  },
  {
   "cell_type": "code",
   "execution_count": 10,
   "id": "174c8133",
   "metadata": {},
   "outputs": [
    {
     "name": "stdout",
     "output_type": "stream",
     "text": [
      "                                sum_sq    df         F    PR(>F)\n",
      "C(Pelatihan)                 26.888889   1.0  0.718101  0.413350\n",
      "C(Pendidikan)                22.111111   2.0  0.295252  0.749598\n",
      "C(Pelatihan):C(Pendidikan)    4.111111   2.0  0.054896  0.946820\n",
      "Residual                    449.333333  12.0       NaN       NaN\n"
     ]
    }
   ],
   "source": [
    "import statsmodels.api as sm\n",
    "from statsmodels.formula.api import ols\n",
    "\n",
    "# Model ANOVA 2 arah dengan interaksi\n",
    "model = ols(\"Skor ~ C(Pelatihan) * C(Pendidikan)\", data=data).fit()\n",
    "anova_table = sm.stats.anova_lm(model, typ=2)\n",
    "print(anova_table)\n"
   ]
  },
  {
   "cell_type": "markdown",
   "id": "4f0ccfad",
   "metadata": {},
   "source": [
    "Jenis Pelatihan:\n",
    "- p-value = 0.413 > 0.05 → Tidak ada pengaruh signifikan jenis pelatihan terhadap skor.\n",
    "\n",
    "Tingkat Pendidikan:\n",
    "- p-value = 0.750 > 0.05 → Tidak ada pengaruh signifikan tingkat pendidikan terhadap skor.\n",
    "\n",
    "Interaksi Pelatihan x Pendidikan:\n",
    "- p-value = 0.947 > 0.05 → Tidak ada interaksi signifikan antara pelatihan dan pendidikan.\n",
    "\n",
    "\n",
    "Karena tidak ada faktor yang signifikan (semua p-value > 0.05), uji Tukey HSD tidak diperlukan."
   ]
  }
 ],
 "metadata": {
  "kernelspec": {
   "display_name": "Python 3",
   "language": "python",
   "name": "python3"
  },
  "language_info": {
   "codemirror_mode": {
    "name": "ipython",
    "version": 3
   },
   "file_extension": ".py",
   "mimetype": "text/x-python",
   "name": "python",
   "nbconvert_exporter": "python",
   "pygments_lexer": "ipython3",
   "version": "3.13.0"
  }
 },
 "nbformat": 4,
 "nbformat_minor": 5
}
