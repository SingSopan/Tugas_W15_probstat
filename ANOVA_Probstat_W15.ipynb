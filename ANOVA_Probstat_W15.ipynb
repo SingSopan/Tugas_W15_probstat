{
 "cells": [
  {
   "cell_type": "markdown",
   "id": "6ee21cf4",
   "metadata": {},
   "source": [
    "# Analisis ANOVA (Analysis of Variance)\n",
    "**Probstat W15 — Uji Hipotesis Perbedaan Antar Kelompok**\n",
    "\n",
    "Notebook ini dibuat untuk mempelajari ANOVA secara mandiri sesuai dengan pengumuman perkuliahan.\n",
    "\n",
    "## Tujuan\n",
    "- Menjelaskan konsep dasar ANOVA\n",
    "- Menerapkan ANOVA pada dua studi kasus berbeda menggunakan Python\n",
    "- Melakukan interpretasi hasil uji ANOVA\n"
   ]
  },
  {
   "cell_type": "markdown",
   "id": "74cd1b61",
   "metadata": {},
   "source": [
    "## Apa itu ANOVA?\n",
    "ANOVA (Analysis of Variance) adalah metode statistik untuk menguji apakah terdapat perbedaan signifikan antara **rata-rata** dari tiga kelompok atau lebih.\n",
    "\n",
    "**Hipotesis ANOVA:**\n",
    "- H0: μ1 = μ2 = μ3 = ... = μk (tidak ada perbedaan rata-rata)\n",
    "- H1: Setidaknya ada satu rata-rata yang berbeda\n",
    "\n",
    "ANOVA satu arah digunakan ketika kita mengelompokkan data berdasarkan satu faktor (misal: metode belajar, jenis pabrik, dll)."
   ]
  },
  {
   "cell_type": "markdown",
   "id": "363d7ccf",
   "metadata": {},
   "source": [
    "## Studi Kasus 1: Efektivitas Metode Belajar\n",
    "Seorang guru ingin mengetahui apakah metode belajar (Tatap Muka, Daring, Hybrid) memengaruhi hasil ujian matematika siswa.\n",
    "\n",
    "**Data simulasi:**"
   ]
  },
  {
   "cell_type": "code",
   "execution_count": null,
   "id": "37842381",
   "metadata": {},
   "outputs": [],
   "source": [
    "import pandas as pd\n",
    "import scipy.stats as stats\n",
    "\n",
    "# Data nilai ujian untuk 3 metode belajar\n",
    "data = pd.DataFrame({\n",
    "    'Tatap Muka': [78, 85, 80, 90, 88],\n",
    "    'Daring': [70, 65, 72, 68, 75],\n",
    "    'Hybrid': [82, 80, 85, 88, 86]\n",
    "})\n",
    "\n",
    "# Transpose dan ubah ke format long\n",
    "long_data = data.melt(var_name='Metode', value_name='Nilai')\n",
    "\n",
    "# Uji ANOVA\n",
    "f_stat, p_val = stats.f_oneway(\n",
    "    data['Tatap Muka'],\n",
    "    data['Daring'],\n",
    "    data['Hybrid']\n",
    ")\n",
    "print(f\"Statistik F: {f_stat:.2f}, p-value: {p_val:.4f}\")"
   ]
  },
  {
   "cell_type": "markdown",
   "id": "d77c8f9b",
   "metadata": {},
   "source": [
    "## Studi Kasus 2: Waktu Produksi di Tiga Pabrik\n",
    "Sebuah perusahaan ingin membandingkan apakah waktu rata-rata produksi dari tiga pabrik (A, B, dan C) berbeda secara signifikan.\n",
    "\n",
    "**Data simulasi:**"
   ]
  },
  {
   "cell_type": "code",
   "execution_count": null,
   "id": "2d4b82f3",
   "metadata": {},
   "outputs": [],
   "source": [
    "# Data waktu produksi (menit)\n",
    "data2 = pd.DataFrame({\n",
    "    'Pabrik A': [30, 28, 32, 31, 29],\n",
    "    'Pabrik B': [35, 37, 34, 36, 38],\n",
    "    'Pabrik C': [29, 30, 28, 27, 31]\n",
    "})\n",
    "\n",
    "f_stat2, p_val2 = stats.f_oneway(\n",
    "    data2['Pabrik A'],\n",
    "    data2['Pabrik B'],\n",
    "    data2['Pabrik C']\n",
    ")\n",
    "print(f\"Statistik F: {f_stat2:.2f}, p-value: {p_val2:.4f}\")"
   ]
  },
  {
   "cell_type": "markdown",
   "id": "fcbbeb82",
   "metadata": {},
   "source": [
    "## Kesimpulan\n",
    "Berdasarkan hasil uji ANOVA pada dua studi kasus:\n",
    "- Jika p-value < 0.05 → Tolak H0 → Ada perbedaan signifikan antar kelompok\n",
    "- Jika p-value ≥ 0.05 → Gagal tolak H0 → Tidak ada perbedaan signifikan\n",
    "\n",
    "Silakan eksplorasi lebih lanjut dengan menambahkan **uji post-hoc (Tukey HSD)** jika ditemukan perbedaan signifikan."
   ]
  }
 ],
 "metadata": {},
 "nbformat": 4,
 "nbformat_minor": 5
}